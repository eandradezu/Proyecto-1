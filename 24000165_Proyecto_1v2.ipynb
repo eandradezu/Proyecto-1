{
 "cells": [
  {
   "cell_type": "code",
   "execution_count": null,
   "id": "ddcafc3d-b1ce-4996-b050-cd79ed9bb4a0",
   "metadata": {},
   "outputs": [],
   "source": [
    "import numpy as np\n",
    "import pandas as pd\n",
    "proyecto=np.load('proyecto_training_data.npy')\n",
    "proyecto"
   ]
  },
  {
   "cell_type": "code",
   "execution_count": null,
   "id": "e994822f-470f-4144-a56e-fd28d203f564",
   "metadata": {},
   "outputs": [],
   "source": [
    "proyecto.shape"
   ]
  },
  {
   "cell_type": "code",
   "execution_count": null,
   "id": "36c5d1e4-5d97-4681-acce-8565d40294ba",
   "metadata": {},
   "outputs": [],
   "source": [
    "n_train = int(0.8 * proyecto.shape[0])  \n",
    "train, test = np.split(proyecto, [n_train])\n"
   ]
  },
  {
   "cell_type": "code",
   "execution_count": null,
   "id": "ebe0e0ff-a451-48a0-8b67-e7dd519bab32",
   "metadata": {},
   "outputs": [],
   "source": [
    "train.shape"
   ]
  },
  {
   "cell_type": "code",
   "execution_count": null,
   "id": "d83c89b2-29cd-4f12-98ab-a3f382148e01",
   "metadata": {},
   "outputs": [],
   "source": [
    "nomcol= ['Sale_Price','OverallQual','area_F1','RoomsAbGr','Y_built','Street']\n",
    "train_df=pd.DataFrame(train, columns=nomcol)\n",
    "train_df"
   ]
  },
  {
   "cell_type": "code",
   "execution_count": null,
   "id": "fba8a7d9-e8db-48bc-94ae-dd807ec67afb",
   "metadata": {},
   "outputs": [],
   "source": [
    "test.shape"
   ]
  },
  {
   "cell_type": "code",
   "execution_count": null,
   "id": "bad798fd-d81e-4a6d-be27-b68a68454a99",
   "metadata": {},
   "outputs": [],
   "source": [
    "nomcol= ['Sale_Price','OverallQual','area_F1','RoomsAbGr','Y_built','Street']\n",
    "test_df=pd.DataFrame(test, columns=nomcol)\n",
    "test_df"
   ]
  },
  {
   "cell_type": "code",
   "execution_count": null,
   "id": "7a5b012d-43fe-41e5-b684-d1de06d535ce",
   "metadata": {},
   "outputs": [],
   "source": [
    "train_data=train_df.describe()\n",
    "train_media= train_data.loc['mean']\n",
    "train_min= train_data.loc['min']\n",
    "train_max= train_data.loc['max']\n",
    "train_rango= train_df.max() - train_df.min()\n",
    "train_desv_est= train_data.loc['std']\n",
    "print('Media')\n",
    "print (train_media)\n",
    "print ('-------------------------------------------------------')\n",
    "print('Mínimo')\n",
    "print(train_min)\n",
    "print ('-------------------------------------------------------')\n",
    "print('Máximo')\n",
    "print(train_max)\n",
    "print ('-------------------------------------------------------')\n",
    "print('Rango, peak to peak')\n",
    "print(train_rango)\n",
    "print ('-------------------------------------------------------')\n",
    "print('Desviación estándar')\n",
    "print(train_desv_est)"
   ]
  },
  {
   "cell_type": "code",
   "execution_count": null,
   "id": "33621172-5a43-460f-9331-d05f7b48b727",
   "metadata": {},
   "outputs": [],
   "source": [
    "import seaborn as sns\n",
    "import matplotlib.pyplot as plt\n",
    "\n",
    "for column in train_df.columns:\n",
    "    plt.figure(figsize=(8, 6))\n",
    "    sns.histplot(train_df[column], kde=True)"
   ]
  },
  {
   "cell_type": "code",
   "execution_count": null,
   "id": "15e9dcbb-b5f6-4356-99da-39c51ee0a6fd",
   "metadata": {},
   "outputs": [],
   "source": [
    "OverallQual_corr= train_df['OverallQual'].corr(train_df['Sale_Price'])\n",
    "plt.figure(figsize=(8, 6))\n",
    "plt.scatter(train_df['OverallQual'], train_df['Sale_Price'])\n",
    "plt.title(f'Overall Quality vs Sale Price, Coeficiente de correlación: {OverallQual_corr:4f}')\n",
    "plt.show()"
   ]
  },
  {
   "cell_type": "code",
   "execution_count": null,
   "id": "a0c75f25-e150-472f-84c5-e0b98151e402",
   "metadata": {},
   "outputs": [],
   "source": [
    "area_F1_corr= train_df['area_F1'].corr(train_df['Sale_Price'])\n",
    "plt.figure(figsize=(8, 6))\n",
    "plt.scatter(train_df['area_F1'], train_df['Sale_Price'])\n",
    "plt.title(f'First Floor area in squared feet vs Sale Price, Coeficiente de correlación: {area_F1_corr:4f}')\n",
    "plt.show()"
   ]
  },
  {
   "cell_type": "code",
   "execution_count": null,
   "id": "c3c001a5-ff94-4168-9575-6737c90a1728",
   "metadata": {},
   "outputs": [],
   "source": [
    "RoomsAbGr_corr= train_df['RoomsAbGr'].corr(train_df['Sale_Price'])\n",
    "plt.figure(figsize=(8, 6))\n",
    "plt.scatter(train_df['RoomsAbGr'], train_df['Sale_Price'])\n",
    "plt.title(f'Total Rooms Above Grade vs Sale Price, Coeficiente de correlación: {RoomsAbGr_corr:4f}')\n",
    "plt.show()"
   ]
  },
  {
   "cell_type": "code",
   "execution_count": null,
   "id": "2f9dcb4a-499e-4b39-80a0-2af75ea288a6",
   "metadata": {},
   "outputs": [],
   "source": [
    "Y_built_corr= train_df['Y_built'].corr(train_df['Sale_Price'])\n",
    "plt.figure(figsize=(8, 6))\n",
    "plt.scatter(train_df['Y_built'], train_df['Sale_Price'])\n",
    "plt.title(f'Year Built vs Sale Price, Coeficiente de correlación: {Y_built_corr:4f}')\n",
    "plt.show()"
   ]
  },
  {
   "cell_type": "code",
   "execution_count": null,
   "id": "837ed0ca-7c5d-4635-9805-1a3c4137daad",
   "metadata": {},
   "outputs": [],
   "source": [
    "Street_corr= train_df['Street'].corr(train_df['Sale_Price'])\n",
    "plt.figure(figsize=(8, 6))\n",
    "plt.scatter(train_df['Street'], train_df['Sale_Price'])\n",
    "plt.title(f'Street connected to property vs Sale Price, Coeficiente de correlación: {Street_corr:4f}')\n",
    "plt.show()"
   ]
  },
  {
   "cell_type": "markdown",
   "id": "aba06abf-517d-48a9-ae2a-db945200f971",
   "metadata": {},
   "source": [
    "## Basado en las gráficas de dispersión y sus coeficientes de correlación, se escogen las variables\n",
    "# Overall Quality y First Floor area in squared feet"
   ]
  },
  {
   "cell_type": "code",
   "execution_count": null,
   "id": "2b247f7c-7872-4af3-b7b4-9e1c3381b2f8",
   "metadata": {},
   "outputs": [],
   "source": []
  },
  {
   "cell_type": "code",
   "execution_count": null,
   "id": "8c377519-0d3f-484f-a959-8f439348e0da",
   "metadata": {},
   "outputs": [],
   "source": []
  },
  {
   "cell_type": "code",
   "execution_count": null,
   "id": "e9b4c38d-67b0-4c46-bb78-8655c3a43ae2",
   "metadata": {},
   "outputs": [],
   "source": []
  },
  {
   "cell_type": "code",
   "execution_count": null,
   "id": "a81f2bca-6edd-4bb3-89c5-23834eef9f7f",
   "metadata": {},
   "outputs": [],
   "source": []
  }
 ],
 "metadata": {
  "kernelspec": {
   "display_name": "",
   "name": ""
  },
  "language_info": {
   "name": ""
  }
 },
 "nbformat": 4,
 "nbformat_minor": 5
}
