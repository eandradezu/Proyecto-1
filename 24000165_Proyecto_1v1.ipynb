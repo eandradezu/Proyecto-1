{
 "cells": [
  {
   "cell_type": "code",
   "execution_count": null,
   "id": "ddcafc3d-b1ce-4996-b050-cd79ed9bb4a0",
   "metadata": {},
   "outputs": [],
   "source": [
    "import numpy as np\n",
    "import pandas as pd\n",
    "proyecto=np.load('proyecto_training_data.npy')\n",
    "proyecto"
   ]
  },
  {
   "cell_type": "code",
   "execution_count": null,
   "id": "e994822f-470f-4144-a56e-fd28d203f564",
   "metadata": {},
   "outputs": [],
   "source": [
    "proyecto.shape"
   ]
  },
  {
   "cell_type": "code",
   "execution_count": null,
   "id": "36c5d1e4-5d97-4681-acce-8565d40294ba",
   "metadata": {},
   "outputs": [],
   "source": [
    "n_train = int(0.8 * proyecto.shape[0])  \n",
    "train, test = np.split(proyecto, [n_train])\n"
   ]
  },
  {
   "cell_type": "code",
   "execution_count": null,
   "id": "ebe0e0ff-a451-48a0-8b67-e7dd519bab32",
   "metadata": {},
   "outputs": [],
   "source": [
    "train.shape"
   ]
  },
  {
   "cell_type": "code",
   "execution_count": null,
   "id": "d83c89b2-29cd-4f12-98ab-a3f382148e01",
   "metadata": {},
   "outputs": [],
   "source": [
    "nomcol= ['Sale_Price','OverallQual','area_F1','RoomsAbGr','Y_built','Street']\n",
    "train_df=pd.DataFrame(train, columns=nomcol)\n",
    "train_df"
   ]
  },
  {
   "cell_type": "code",
   "execution_count": null,
   "id": "fba8a7d9-e8db-48bc-94ae-dd807ec67afb",
   "metadata": {},
   "outputs": [],
   "source": [
    "test.shape"
   ]
  },
  {
   "cell_type": "code",
   "execution_count": null,
   "id": "bad798fd-d81e-4a6d-be27-b68a68454a99",
   "metadata": {},
   "outputs": [],
   "source": [
    "nomcol= ['Sale_Price','OverallQual','area_F1','RoomsAbGr','Y_built','Street']\n",
    "test_df=pd.DataFrame(test, columns=nomcol)\n",
    "test_df"
   ]
  },
  {
   "cell_type": "code",
   "execution_count": null,
   "id": "7a5b012d-43fe-41e5-b684-d1de06d535ce",
   "metadata": {},
   "outputs": [],
   "source": [
    "train_data=train_df.describe()\n",
    "train_media= train_data.loc['mean']\n",
    "train_min= train_data.loc['min']\n",
    "train_max= train_data.loc['max']\n",
    "train_rango= train_df.max() - train_df.min()\n",
    "train_desv_est= train_data.loc['std']\n",
    "print('Media')\n",
    "print (train_media)\n",
    "print ('-------------------------------------------------------')\n",
    "print('Mínimo')\n",
    "print(train_min)\n",
    "print ('-------------------------------------------------------')\n",
    "print('Máximo')\n",
    "print(train_max)\n",
    "print ('-------------------------------------------------------')\n",
    "print('Rango, peak to peak')\n",
    "print(train_rango)\n",
    "print ('-------------------------------------------------------')\n",
    "print('Desviación estándar')\n",
    "print(train_desv_est)"
   ]
  },
  {
   "cell_type": "code",
   "execution_count": null,
   "id": "33621172-5a43-460f-9331-d05f7b48b727",
   "metadata": {},
   "outputs": [],
   "source": []
  },
  {
   "cell_type": "code",
   "execution_count": null,
   "id": "15e9dcbb-b5f6-4356-99da-39c51ee0a6fd",
   "metadata": {},
   "outputs": [],
   "source": []
  },
  {
   "cell_type": "code",
   "execution_count": null,
   "id": "a0c75f25-e150-472f-84c5-e0b98151e402",
   "metadata": {},
   "outputs": [],
   "source": []
  },
  {
   "cell_type": "code",
   "execution_count": null,
   "id": "c3c001a5-ff94-4168-9575-6737c90a1728",
   "metadata": {},
   "outputs": [],
   "source": []
  },
  {
   "cell_type": "code",
   "execution_count": null,
   "id": "2f9dcb4a-499e-4b39-80a0-2af75ea288a6",
   "metadata": {},
   "outputs": [],
   "source": []
  }
 ],
 "metadata": {
  "kernelspec": {
   "display_name": "Python 3 (ipykernel)",
   "language": "python",
   "name": "python3"
  },
  "language_info": {
   "codemirror_mode": {
    "name": "ipython",
    "version": 3
   },
   "file_extension": ".py",
   "mimetype": "text/x-python",
   "name": "python",
   "nbconvert_exporter": "python",
   "pygments_lexer": "ipython3",
   "version": "3.11.5"
  }
 },
 "nbformat": 4,
 "nbformat_minor": 5
}
